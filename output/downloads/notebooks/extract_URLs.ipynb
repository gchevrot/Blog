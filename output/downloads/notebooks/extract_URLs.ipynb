{
 "cells": [
  {
   "cell_type": "markdown",
   "metadata": {},
   "source": [
    "I want to extract the URL from the recovery.js file (the file is created by Firefox, it contains the URLs of the windows and tabs in the Firefox session).\n",
    "My goal is to be able to store and classify these URLs in a text file. Then I can for example open a \"special\" firefox session with only the desired URLs and still store the other URLs. Note: I could do everything manually from Firefox but I find it less convenient."
   ]
  },
  {
   "cell_type": "code",
   "execution_count": 1,
   "metadata": {
    "collapsed": true
   },
   "outputs": [],
   "source": [
    "import re\n",
    "import os.path"
   ]
  },
  {
   "cell_type": "markdown",
   "metadata": {},
   "source": [
    "Path to the recovery.js file:"
   ]
  },
  {
   "cell_type": "code",
   "execution_count": 2,
   "metadata": {
    "collapsed": false
   },
   "outputs": [],
   "source": [
    "# Using os.path.expanduser because of the tild:\n",
    "filename = os.path.expanduser('~/Library/Application Support/Firefox/Profiles/g9vvodyo.default/sessionstore-backups/recovery.js')"
   ]
  },
  {
   "cell_type": "markdown",
   "metadata": {},
   "source": [
    "Extraction of the data:"
   ]
  },
  {
   "cell_type": "code",
   "execution_count": 3,
   "metadata": {
    "collapsed": false
   },
   "outputs": [],
   "source": [
    "with open(filename, 'r') as f:\n",
    "    data = f.readlines()"
   ]
  },
  {
   "cell_type": "markdown",
   "metadata": {},
   "source": [
    "Extract the URLs with a regular expression:"
   ]
  },
  {
   "cell_type": "code",
   "execution_count": 4,
   "metadata": {
    "collapsed": false
   },
   "outputs": [],
   "source": [
    "if len(data) == 1:\n",
    "    # regex extract the url (http) untill the first quote (\")\n",
    "    urls = re.findall(r'(https?://\\S[^\"]*)', data[0])\n",
    "else:\n",
    "    print('The data are not stored in one string. You should adapt the code. Good luck!')"
   ]
  },
  {
   "cell_type": "code",
   "execution_count": 5,
   "metadata": {
    "collapsed": false
   },
   "outputs": [
    {
     "data": {
      "text/plain": [
       "25"
      ]
     },
     "execution_count": 5,
     "metadata": {},
     "output_type": "execute_result"
    }
   ],
   "source": [
    "len(urls)"
   ]
  },
  {
   "cell_type": "markdown",
   "metadata": {},
   "source": [
    "Discard the duplicates in the URLs:"
   ]
  },
  {
   "cell_type": "code",
   "execution_count": 6,
   "metadata": {
    "collapsed": false
   },
   "outputs": [
    {
     "data": {
      "text/plain": [
       "15"
      ]
     },
     "execution_count": 6,
     "metadata": {},
     "output_type": "execute_result"
    }
   ],
   "source": [
    "urls = list(set(urls))\n",
    "len(urls)"
   ]
  },
  {
   "cell_type": "code",
   "execution_count": 7,
   "metadata": {
    "collapsed": false
   },
   "outputs": [
    {
     "data": {
      "text/plain": [
       "['http://public.slidesharecdn.com/b/images/logo/linkedin-ss/linkedin_ss_favicon.ico?d0e5c05903',\n",
       " 'http://rrcns.readthedocs.org/en/cns2012/reproducible_research.html#a-note-on-terminology-reproduction-replication-and-reuse',\n",
       " 'http://fr.slideshare.net/khinsen/presentations',\n",
       " 'http://rrcns.readthedocs.org/favicon.ico',\n",
       " 'http://mosaic-data-model.github.io/#',\n",
       " 'https://github.com/khinsen/article-statistique-et-societe\\\\',\n",
       " 'http://www.slideshare.net/khinsen/reproducible-research-in-molecular-biophysics-and-structural-biology',\n",
       " 'http://rrcns.readthedocs.org/en/cns2012/',\n",
       " 'http://www.slideshare.net/khinsen/presentations',\n",
       " 'http://www.andrewdavison.info/notes/workflows-reproducible-research-comp-neuro/',\n",
       " 'http://fr.slideshare.net/khinsen/reproducible-research-in-molecular-biophysics-and-structural-biology',\n",
       " 'http://www.andrewdavison.info/',\n",
       " 'https://github.com',\n",
       " 'https://assets-cdn.github.com/favicon.ico',\n",
       " 'https://github.com/khinsen/article-statistique-et-societe']"
      ]
     },
     "execution_count": 7,
     "metadata": {},
     "output_type": "execute_result"
    }
   ],
   "source": [
    "urls"
   ]
  },
  {
   "cell_type": "markdown",
   "metadata": {},
   "source": [
    "Write the urls in a file"
   ]
  },
  {
   "cell_type": "code",
   "execution_count": 8,
   "metadata": {
    "collapsed": false
   },
   "outputs": [
    {
     "name": "stdout",
     "output_type": "stream",
     "text": [
      "You can now open all the urls with \"firefox -n $(cat urls.txt)\" on linux or \"open /Applications/Firefox.app $(cat urls.txt)\" on OS X\n",
      "NOTE: Open firefox before the previous command so firefox will open the URLs in tabs instead of sessions\n"
     ]
    }
   ],
   "source": [
    "filename = 'urls.txt'\n",
    "# write only if the file does not exist\n",
    "if not os.path.isfile(filename):\n",
    "    with open(filename, 'w') as f:\n",
    "        for url in urls:\n",
    "            f.write('{0}\\n'.format(url))\n",
    "    print('You can now open all the urls with \"firefox -n $(cat urls.txt)\" on linux or \"open /Applications/Firefox.app $(cat urls.txt)\" on OS X'.)\n",
    "    print('NOTE: Open firefox before the previous command so firefox will open the URLs in tabs instead of sessions.')\n",
    "else:\n",
    "    print('The file already exists! Delete the file if you want to create a file with this name.')"
   ]
  },
  {
   "cell_type": "markdown",
   "metadata": {
    "collapsed": true
   },
   "source": [
    "At this point, I made a manual classification of the URLs and put the new file in my home directory. The URLs are classified by theme, the theme is preceeded by \"#\". Then there are the URLs corresponding to that theme and then 2 blank lines."
   ]
  },
  {
   "cell_type": "markdown",
   "metadata": {},
   "source": [
    "Then I write a new script to extract the URLs according to their theme."
   ]
  },
  {
   "cell_type": "markdown",
   "metadata": {},
   "source": [
    "### Open the desired URLs in the browser"
   ]
  },
  {
   "cell_type": "markdown",
   "metadata": {},
   "source": [
    "Extract the theme (the themes are preceeded by \"#\"):"
   ]
  },
  {
   "cell_type": "code",
   "execution_count": 21,
   "metadata": {
    "collapsed": false
   },
   "outputs": [],
   "source": [
    "filename = 'urls.txt'\n",
    "with open(filename, 'r') as f:\n",
    "    urls = f.readlines()"
   ]
  },
  {
   "cell_type": "code",
   "execution_count": 22,
   "metadata": {
    "collapsed": false
   },
   "outputs": [
    {
     "data": {
      "text/plain": [
       "['# Reproducbility:\\n',\n",
       " 'http://rrcns.readthedocs.org/en/cns2012/reproducible_research.html#a-note-on-terminology-reproduction-replication-and-reuse\\n',\n",
       " 'http://mosaic-data-model.github.io/#\\n',\n",
       " 'http://www.slideshare.net/khinsen/reproducible-research-in-molecular-biophysics-and-structural-biology\\n',\n",
       " 'http://www.andrewdavison.info/notes/workflows-reproducible-research-comp-neuro/\\n',\n",
       " 'http://fr.slideshare.net/khinsen/reproducible-research-in-molecular-biophysics-and-structural-biology\\n',\n",
       " 'https://github.com/khinsen/article-statistique-et-societe\\n',\n",
       " '\\n',\n",
       " '\\n',\n",
       " '# Miscellaneous:\\n',\n",
       " 'http://www.slideshare.net/khinsen/presentations\\n',\n",
       " 'http://www.andrewdavison.info/\\n',\n",
       " 'http://rrcns.readthedocs.org/en/cns2012/\\n']"
      ]
     },
     "execution_count": 22,
     "metadata": {},
     "output_type": "execute_result"
    }
   ],
   "source": [
    "urls"
   ]
  },
  {
   "cell_type": "markdown",
   "metadata": {},
   "source": [
    "Find the urls \"themes\""
   ]
  },
  {
   "cell_type": "code",
   "execution_count": 23,
   "metadata": {
    "collapsed": false,
    "scrolled": true
   },
   "outputs": [
    {
     "data": {
      "text/plain": [
       "['# Reproducbility:', '# Miscellaneous:']"
      ]
     },
     "execution_count": 23,
     "metadata": {},
     "output_type": "execute_result"
    }
   ],
   "source": [
    "# regex start with # and then any character (.) with one or more repetitions (+)\n",
    "themes = [re.findall(r'^#.+', url) for url in urls]\n",
    "# Flatten the preceeding list of list:\n",
    "themes = [val for sublist in themes for val in sublist]\n",
    "themes"
   ]
  },
  {
   "cell_type": "markdown",
   "metadata": {},
   "source": [
    "###### Write the urls in a new file"
   ]
  },
  {
   "cell_type": "markdown",
   "metadata": {},
   "source": [
    "For example I want to open the urls from the \"reproducibility\" theme:"
   ]
  },
  {
   "cell_type": "code",
   "execution_count": 24,
   "metadata": {
    "collapsed": false
   },
   "outputs": [
    {
     "data": {
      "text/plain": [
       "'# Reproducbility:'"
      ]
     },
     "execution_count": 24,
     "metadata": {},
     "output_type": "execute_result"
    }
   ],
   "source": [
    "theme = themes[0]\n",
    "theme"
   ]
  },
  {
   "cell_type": "markdown",
   "metadata": {},
   "source": [
    "Find the line number corresponding to the theme we are interested in:"
   ]
  },
  {
   "cell_type": "code",
   "execution_count": 25,
   "metadata": {
    "collapsed": false
   },
   "outputs": [
    {
     "name": "stdout",
     "output_type": "stream",
     "text": [
      "0\n"
     ]
    }
   ],
   "source": [
    "regex = r'' + theme\n",
    "for cpt, url in enumerate(urls):\n",
    "    # If the theme is found\n",
    "    if re.match(regex, url):\n",
    "        print(cpt)\n",
    "        break"
   ]
  },
  {
   "cell_type": "markdown",
   "metadata": {},
   "source": [
    "Now, we know the rank (=cpt) corresponding to the theme we are interested in, so we will save the URLs until the first blank line:"
   ]
  },
  {
   "cell_type": "code",
   "execution_count": 26,
   "metadata": {
    "collapsed": false
   },
   "outputs": [
    {
     "name": "stdout",
     "output_type": "stream",
     "text": [
      "http://rrcns.readthedocs.org/en/cns2012/reproducible_research.html#a-note-on-terminology-reproduction-replication-and-reuse\n",
      "\n",
      "http://mosaic-data-model.github.io/#\n",
      "\n",
      "http://www.slideshare.net/khinsen/reproducible-research-in-molecular-biophysics-and-structural-biology\n",
      "\n",
      "http://www.andrewdavison.info/notes/workflows-reproducible-research-comp-neuro/\n",
      "\n",
      "http://fr.slideshare.net/khinsen/reproducible-research-in-molecular-biophysics-and-structural-biology\n",
      "\n",
      "https://github.com/khinsen/article-statistique-et-societe\n",
      "\n",
      "\n",
      "\n"
     ]
    }
   ],
   "source": [
    "regex = r'\\n'\n",
    "filename = 'extracted_urls.txt'\n",
    "f = open(filename, 'w')\n",
    "for url in urls[cpt+1:]:\n",
    "    print(url)\n",
    "    f.write(url)\n",
    "    if re.match(regex, url):\n",
    "        break\n",
    "f.close() # Don't forget to close the file!"
   ]
  },
  {
   "cell_type": "markdown",
   "metadata": {},
   "source": [
    "You can now open the extracted URLs via this command line:\n",
    "\n",
    "open /Applications/Firefox.app $(cat extracted_urls.txt)\n",
    "\n",
    "NOTE: Open firefox before the previous command so firefox will open the URLs in tabs instead of sessions\n",
    "\n",
    "For this second part (\"Open the desired URLs in the browser\"), I wrote a Python script \"open_urls.py\" that can be used from the command line (e.g.: ./open_urls.py urls.txt '# Reproducibility'. It will open all the URLs of the \"Reproducibility\" theme). You can download the script [here](https://github.com/gchevrot/blog/tree/gh-pages/content/downloads/code/open_urls.py)."
   ]
  }
 ],
 "metadata": {
  "kernelspec": {
   "display_name": "Python 3",
   "language": "python",
   "name": "python3"
  },
  "language_info": {
   "codemirror_mode": {
    "name": "ipython",
    "version": 3
   },
   "file_extension": ".py",
   "mimetype": "text/x-python",
   "name": "python",
   "nbconvert_exporter": "python",
   "pygments_lexer": "ipython3",
   "version": "3.4.3"
  }
 },
 "nbformat": 4,
 "nbformat_minor": 0
}

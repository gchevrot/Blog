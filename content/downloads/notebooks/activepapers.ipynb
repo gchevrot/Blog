{
 "cells": [
  {
   "cell_type": "markdown",
   "metadata": {},
   "source": [
    "# Creating an ActivePapers"
   ]
  },
  {
   "cell_type": "markdown",
   "metadata": {},
   "source": [
    "### What is ActivePapers?"
   ]
  },
  {
   "cell_type": "markdown",
   "metadata": {},
   "source": [
    "ActivePapers is an on-going project developped by [Konrad Hinsen](http://dirac.cnrs-orleans.fr/plone/Members/hinsen) whose aim is to make a computational calculation reproducible and publishable. You can find all the details of the project [here](http://www.activepapers.org/)."
   ]
  },
  {
   "cell_type": "markdown",
   "metadata": {},
   "source": [
    "### Design?"
   ]
  },
  {
   "cell_type": "markdown",
   "metadata": {},
   "source": [
    "To make computational calculation reproducible and publishable, it is proposed to create an ActivePaper file that will contain all your data and code in one unique file. Again, see the details [here](http://www.activepapers.org/). ActivePapers implementations use [HDF5](http://www.hdfgroup.org/HDF5/) as the underlying storage format, that means that an ActivePaper is an HDF5 file. One advantage is that you can inspect the datasets in an ActivePaper with generic HDF5 tools like [HDFView](http://www.hdfgroup.org/products/java/hdfview/)."
   ]
  },
  {
   "cell_type": "markdown",
   "metadata": {},
   "source": [
    "### How do we create an ActivePaper file?"
   ]
  },
  {
   "cell_type": "markdown",
   "metadata": {},
   "source": [
    "To create our ActivePaper file, we will use the [ActivePapers Python edition](http://www.activepapers.org/python-edition/). You can find an installation guide [here](http://www.activepapers.org/python-edition/installation.html), it should be pretty straightforward."
   ]
  },
  {
   "cell_type": "markdown",
   "metadata": {},
   "source": [
    "A more comprehensive [tutorial](http://www.activepapers.org/python-edition/tutorial.html) already exists. What I proposed here is only to create a very simple ActivePaper and show how to extract the data."
   ]
  },
  {
   "cell_type": "markdown",
   "metadata": {},
   "source": [
    "With this ActivePaper, I want to create 2 arrays, add these 2 arrays and generate a plot. So the first thing to do is to write the Python code that will do these operations."
   ]
  },
  {
   "cell_type": "markdown",
   "metadata": {},
   "source": [
    "###### Creating the arrays"
   ]
  },
  {
   "cell_type": "markdown",
   "metadata": {},
   "source": [
    "I write this code in the file 'create_data.py':"
   ]
  },
  {
   "cell_type": "code",
   "execution_count": null,
   "metadata": {
    "collapsed": true
   },
   "outputs": [],
   "source": [
    "from activepapers.contents import data\n",
    "import numpy as np\n",
    "\n",
    "# Create groups for the input data\n",
    "inputs = data.create_group('inputs')\n",
    "\n",
    "# creating a numpy array\n",
    "arr = np.arange(100)\n",
    "\n",
    "# Adding the numpy array to the groups\n",
    "inputs['dataset_1'] = arr\n",
    "inputs['dataset_2'] = arr"
   ]
  },
  {
   "cell_type": "markdown",
   "metadata": {},
   "source": [
    "###### Adding the arrays"
   ]
  },
  {
   "cell_type": "markdown",
   "metadata": {},
   "source": [
    "I write this code in the file 'adding_data.py':"
   ]
  },
  {
   "cell_type": "code",
   "execution_count": null,
   "metadata": {
    "collapsed": true
   },
   "outputs": [],
   "source": [
    "from activepapers.contents import data\n",
    "import numpy as np\n",
    "\n",
    "# Create group for the output data\n",
    "output = data.create_group('output')\n",
    "\n",
    "input_data = data['inputs']\n",
    "\n",
    "# Adding the 2 inputs array\n",
    "arr_1 = input_data['dataset_1'][:].astype(np.int)\n",
    "arr_2 = input_data['dataset_2'][...].astype(np.int)\n",
    "sum = arr_1 + arr_2\n",
    "\n",
    "# Writing the output\n",
    "output['sum'] = sum"
   ]
  },
  {
   "cell_type": "markdown",
   "metadata": {},
   "source": [
    "###### Plot"
   ]
  },
  {
   "cell_type": "markdown",
   "metadata": {},
   "source": [
    "I write this code in the file 'adding_data.py':"
   ]
  },
  {
   "cell_type": "code",
   "execution_count": null,
   "metadata": {
    "collapsed": true
   },
   "outputs": [],
   "source": [
    "import matplotlib\n",
    "matplotlib.use('PDF')  # if I don't use it, the pdf produced is corrupted?\n",
    "import matplotlib.pyplot as plt\n",
    "import numpy as np\n",
    "from activepapers.contents import data, open_documentation\n",
    "\n",
    "def plot(x, y, fontsize=19, output='plot.pdf'):\n",
    "    fig = plt.figure(figsize=(7,7))\n",
    "    ax = fig.add_subplot(1,1,1)\n",
    "\n",
    "    # data\n",
    "    ax.plot(x, y, '-', linewidth=2.0, label='normal')\n",
    "\n",
    "    # legend\n",
    "    ax.set_xlabel('x', fontsize=fontsize)\n",
    "    ax.set_ylabel('y', fontsize=fontsize)\n",
    "\n",
    "    # police\n",
    "    ax.tick_params(labelsize=fontsize)\n",
    "    # Add and specify different settings for minor grids\n",
    "    x_max = x.max()\n",
    "    ax.set_xticks(np.arange(0.0, x_max+1, 10.0), minor = True)\n",
    "    y_max = y.max()\n",
    "    ax.set_yticks(np.arange(0.0, y_max+1, 10.0), minor = True)\n",
    "    ax.grid(which = 'minor', alpha = 0.9)\n",
    "\n",
    "    return fig\n",
    "\n",
    "# Plotting and saving in documentation\n",
    "x = data['inputs/dataset_1'][:]\n",
    "y = data['output/sum'][:]\n",
    "fig = plot(x, y)\n",
    "fig.savefig(open_documentation('plot.pdf', 'w')) #save plot in /documentation/"
   ]
  },
  {
   "cell_type": "markdown",
   "metadata": {},
   "source": [
    "###### Documentation"
   ]
  },
  {
   "cell_type": "markdown",
   "metadata": {},
   "source": [
    "You can also add a documentation. For example, you can add this type of README.txt:"
   ]
  },
  {
   "cell_type": "code",
   "execution_count": null,
   "metadata": {
    "collapsed": true
   },
   "outputs": [],
   "source": [
    "1) DATA\n",
    "=======\n",
    "Inputs: creating 2 arrays\n",
    "Output: adding these 2 arrays\n",
    "\n",
    "2) CODE\n",
    "=======\n",
    "create_data.py: create the inputs\n",
    "adding_data.py: compute the output\n",
    "plot.py: plot the data"
   ]
  },
  {
   "cell_type": "markdown",
   "metadata": {},
   "source": [
    "###### Creating the ActivePapers"
   ]
  },
  {
   "cell_type": "markdown",
   "metadata": {},
   "source": [
    "Now we can generate the ActivePaper:"
   ]
  },
  {
   "cell_type": "code",
   "execution_count": null,
   "metadata": {
    "collapsed": true
   },
   "outputs": [],
   "source": [
    "aptool -p test.ap create -d matplotlib"
   ]
  },
  {
   "cell_type": "markdown",
   "metadata": {},
   "source": [
    "Here we create an ActivePaper named 'test.ap' and external dependencies (here matplolib), i.e. Python modules that are required but not available as ActivePapers."
   ]
  },
  {
   "cell_type": "markdown",
   "metadata": {},
   "source": [
    "Then we add the README.txt and the Python code into the ActivePaper:"
   ]
  },
  {
   "cell_type": "code",
   "execution_count": null,
   "metadata": {
    "collapsed": true
   },
   "outputs": [],
   "source": [
    "aptool checkin -t text documentation/README.txt\n",
    "aptool checkin -t calclet code/*.py"
   ]
  },
  {
   "cell_type": "markdown",
   "metadata": {},
   "source": [
    "Then it becomes \"magic\". You can actually run the codes inside the ActivePapers and the results will be generate inside the ActivePaper:"
   ]
  },
  {
   "cell_type": "code",
   "execution_count": null,
   "metadata": {
    "collapsed": true
   },
   "outputs": [],
   "source": [
    "aptool run create_data # creating the data\n",
    "aptool run adding_data # adding the data\n",
    "aptool run plot        # generating the plot"
   ]
  },
  {
   "cell_type": "markdown",
   "metadata": {},
   "source": [
    "So now, we have one unique file test.ap containing the inputs and outputs. You can inspect the file aptool:"
   ]
  },
  {
   "cell_type": "code",
   "execution_count": null,
   "metadata": {
    "collapsed": true
   },
   "outputs": [],
   "source": [
    "aptool ls"
   ]
  },
  {
   "cell_type": "markdown",
   "metadata": {},
   "source": [
    "As expected, it produces:"
   ]
  },
  {
   "cell_type": "code",
   "execution_count": null,
   "metadata": {
    "collapsed": true
   },
   "outputs": [],
   "source": [
    "code/adding_data\n",
    "code/create_data\n",
    "code/plot\n",
    "data/inputs/dataset_1\n",
    "data/inputs/dataset_2\n",
    "data/output/sum\n",
    "documentation/README\n",
    "documentation/plot.pdf"
   ]
  },
  {
   "cell_type": "markdown",
   "metadata": {},
   "source": [
    "As the ActivePaper file is in fact a HDF5 file, you can read the datasets with many generic HDF5 tools, in particular [HDFView](http://www.hdfgroup.org/products/java/hdfview/). We can also do it with Python via the library h5py, for example let's print the output dataset with this python script:"
   ]
  },
  {
   "cell_type": "code",
   "execution_count": null,
   "metadata": {
    "collapsed": true
   },
   "outputs": [],
   "source": [
    "import h5py as h5py\n",
    "\n",
    "with h5py.File('test.ap', 'r') as f:\n",
    "    dset_output = f['data/output/sum']\n",
    "    print(dset_output)\n",
    "    print(dset_output[:])"
   ]
  },
  {
   "cell_type": "markdown",
   "metadata": {},
   "source": [
    "It produces:"
   ]
  },
  {
   "cell_type": "code",
   "execution_count": null,
   "metadata": {
    "collapsed": true
   },
   "outputs": [],
   "source": [
    "<HDF5 dataset \"sum\": shape (100,), type \"<i8\">\n",
    "[  0   2   4   6   8  10  12  14  16  18  20  22  24  26  28  30  32  34\n",
    "  36  38  40  42  44  46  48  50  52  54  56  58  60  62  64  66  68  70\n",
    "  72  74  76  78  80  82  84  86  88  90  92  94  96  98 100 102 104 106\n",
    " 108 110 112 114 116 118 120 122 124 126 128 130 132 134 136 138 140 142\n",
    " 144 146 148 150 152 154 156 158 160 162 164 166 168 170 172 174 176 178\n",
    " 180 182 184 186 188 190 192 194 196 198]"
   ]
  },
  {
   "cell_type": "markdown",
   "metadata": {},
   "source": [
    "You can also easily extract the code and the documentation via:"
   ]
  },
  {
   "cell_type": "code",
   "execution_count": null,
   "metadata": {
    "collapsed": true
   },
   "outputs": [],
   "source": [
    "aptool checkout documentation\n",
    "aptool checkout code"
   ]
  }
 ],
 "metadata": {
  "kernelspec": {
   "display_name": "Python 2",
   "language": "python",
   "name": "python2"
  },
  "language_info": {
   "codemirror_mode": {
    "name": "ipython",
    "version": 2
   },
   "file_extension": ".py",
   "mimetype": "text/x-python",
   "name": "python",
   "nbconvert_exporter": "python",
   "pygments_lexer": "ipython2",
   "version": "2.7.10"
  }
 },
 "nbformat": 4,
 "nbformat_minor": 0
}
